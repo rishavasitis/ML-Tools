{
 "cells": [
  {
   "cell_type": "markdown",
   "id": "4d31fa2c-a6e2-4c0c-bafc-60418dfa3fa5",
   "metadata": {},
   "source": [
    "Q1. Load the \"titanic\" dataset using the load_dataset function of seaborn. Use Plotly express to plot a\n",
    "    scatter plot for age and fare columns in the titanic dataset.\n",
    "    \n",
    "Q2. Using the tips dataset in the Plotly library, plot a box plot using Plotly express.\n",
    "\n",
    "Q3. Using the tips dataset in the Plotly library, Plot a histogram for x= \"sex\" and y=\"total_bill\" column in\n",
    "    the tips dataset. Also, use the \"smoker\" column with the pattern_shape parameter and the \"day\"\n",
    "    column with the color parameter.\n",
    "    \n",
    "Q4. Using the iris dataset in the Plotly library, Plot a scatter matrix plot, using the \"species\" column for\n",
    "    the color parameter.\n",
    "    Note: Use \"sepal_length\", \"sepal_width\", \"petal_length\", \"petal_width\" columns only with the\n",
    "    dimensions parameter.\n",
    "    \n",
    "Q5. What is Distplot? Using Plotly express, plot a distplot."
   ]
  },
  {
   "cell_type": "code",
   "execution_count": null,
   "id": "9790bab6-e210-4eb8-a9c4-66917afbc705",
   "metadata": {},
   "outputs": [],
   "source": []
  },
  {
   "cell_type": "markdown",
   "id": "f4ea08d1-456a-4aa8-b8e8-dd00536d2530",
   "metadata": {},
   "source": [
    "Q1: **Scatter Plot for Age and Fare in Titanic Dataset with Plotly Express:**\n",
    "```python\n",
    "import plotly.express as px\n",
    "import seaborn as sns\n",
    "\n",
    "titanic = sns.load_dataset(\"titanic\")\n",
    "fig = px.scatter(titanic, x=\"age\", y=\"fare\", title=\"Scatter Plot of Age and Fare\")\n",
    "fig.show()\n",
    "```\n",
    "\n",
    "Q2: **Box Plot for Tips Dataset with Plotly Express:**\n",
    "```python\n",
    "import plotly.express as px\n",
    "\n",
    "tips = px.data.tips()\n",
    "fig = px.box(tips, x=\"day\", y=\"total_bill\")\n",
    "fig.show()\n",
    "```\n",
    "\n",
    "Q3: **Histogram with Multiple Parameters in Tips Dataset:**\n",
    "```python\n",
    "import plotly.express as px\n",
    "\n",
    "tips = px.data.tips()\n",
    "fig = px.histogram(tips, x=\"sex\", y=\"total_bill\", color=\"smoker\", pattern_shape=\"smoker\", facet_col=\"day\")\n",
    "fig.show()\n",
    "```\n",
    "\n",
    "Q4: **Scatter Matrix Plot with Iris Dataset and Color Parameter:**\n",
    "```python\n",
    "import plotly.express as px\n",
    "\n",
    "iris = px.data.iris()\n",
    "fig = px.scatter_matrix(iris, dimensions=[\"sepal_length\", \"sepal_width\", \"petal_length\", \"petal_width\"], color=\"species\")\n",
    "fig.show()\n",
    "```\n",
    "\n",
    "Q5: **Distplot and Using Plotly Express:**\n",
    "- A distplot is a distribution plot that combines a histogram with a kernel density estimate. To create a distplot with Plotly Express:\n",
    "```python\n",
    "import plotly.express as px\n",
    "\n",
    "data = [1, 1, 2, 2, 2, 3, 3, 3, 3, 4, 4, 5, 5, 5]\n",
    "fig = px.histogram(data, nbins=7, title=\"Distplot\")\n",
    "fig.show()\n",
    "```"
   ]
  },
  {
   "cell_type": "code",
   "execution_count": null,
   "id": "daef06bf-be8b-4a4b-b927-9889d0509488",
   "metadata": {},
   "outputs": [],
   "source": []
  }
 ],
 "metadata": {
  "kernelspec": {
   "display_name": "Python 3 (ipykernel)",
   "language": "python",
   "name": "python3"
  },
  "language_info": {
   "codemirror_mode": {
    "name": "ipython",
    "version": 3
   },
   "file_extension": ".py",
   "mimetype": "text/x-python",
   "name": "python",
   "nbconvert_exporter": "python",
   "pygments_lexer": "ipython3",
   "version": "3.10.8"
  }
 },
 "nbformat": 4,
 "nbformat_minor": 5
}
