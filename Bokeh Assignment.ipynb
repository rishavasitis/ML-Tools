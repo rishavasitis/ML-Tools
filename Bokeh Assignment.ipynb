{
 "cells": [
  {
   "cell_type": "markdown",
   "id": "c3640776-f219-4411-84cb-2ff3c3856f79",
   "metadata": {},
   "source": [
    "Q1. How can you create a Bokeh plot using Python code?\n",
    "\n",
    "Q2. What are glyphs in Bokeh, and how can you add them to a Bokeh plot? Explain with an example.\n",
    "\n",
    "Q3. How can you customize the appearance of a Bokeh plot, including the axes, title, and legend?\n",
    "\n",
    "Q4. What is a Bokeh server, and how can you use it to create interactive plots that can be updated in\n",
    "    real time?\n",
    "\n",
    "Q5. How can you embed a Bokeh plot into a web page or dashboard using Flask or Django?"
   ]
  },
  {
   "cell_type": "code",
   "execution_count": null,
   "id": "a3655c66-b873-4856-b109-b6fd1ae05019",
   "metadata": {},
   "outputs": [],
   "source": []
  },
  {
   "cell_type": "markdown",
   "id": "69183fc0-0a6b-4dc2-96ab-b59e0bb2a1eb",
   "metadata": {},
   "source": [
    "Q1. **Creating a Bokeh Plot with Python:**\n",
    "   - You can create a Bokeh plot using Python by following these steps:\n",
    "     1. Import the necessary Bokeh modules.\n",
    "     2. Prepare your data, typically in the form of Python lists or Pandas DataFrames.\n",
    "     3. Create a figure to serve as the canvas for your plot.\n",
    "     4. Add various glyphs (shapes or markers) to represent your data on the plot.\n",
    "     5. Customize the appearance of the plot, such as axes, title, and legend.\n",
    "     6. Show or save the plot.\n",
    "\n",
    "Q2. **Glyphs in Bokeh: Adding Shapes to a Plot:**\n",
    "   - Glyphs in Bokeh are visual markers, like circles, squares, lines, or bars, that represent data points.\n",
    "    To add them to a Bokeh plot, you can use the `circle()`, `square()`, `line()`, or other glyph functions. \n",
    "    For example:\n",
    "   ```python\n",
    "   from bokeh.plotting import figure\n",
    "\n",
    "   p = figure()\n",
    "   p.circle([1, 2, 3], [4, 5, 6])  # Adds circles to the plot at specific coordinates.\n",
    "   ```\n",
    "\n",
    "Q3. **Customizing Appearance in Bokeh:**\n",
    "   - To customize a Bokeh plot's appearance, you can use various methods like `title`, `xaxis`, and `yaxis`. For instance:\n",
    "   ```python\n",
    "   from bokeh.plotting import figure\n",
    "\n",
    "   p = figure(title=\"Customized Plot\", x_axis_label=\"X-axis Label\", y_axis_label=\"Y-axis Label\")\n",
    "   p.title.text_font_size = \"16pt\"  # Change title font size.\n",
    "   p.xaxis.major_label_text_font_size = \"12pt\"  # Change X-axis label font size.\n",
    "   ```\n",
    "\n",
    "Q4. **Bokeh Server for Real-Time Interactive Plots:**\n",
    "   - A Bokeh server allows you to create interactive plots that can be updated in real-time. \n",
    "    You define a Bokeh application that handles user interactions.\n",
    "    When you run the server, it serves the interactive plot. \n",
    "    For example, you can create a real-time stock price dashboard that updates as new data comes in.\n",
    "\n",
    "Q5. **Embedding Bokeh in Web Pages with Flask or Django:**\n",
    "   - You can embed a Bokeh plot into a web page or dashboard using frameworks like Flask or Django by generating HTML components.\n",
    "    Bokeh provides a function called `components` that returns the HTML and JavaScript needed to render the plot.\n",
    "    You can insert these components into your web template, and your Bokeh plot will be displayed within your web application.\n",
    "    This allows you to seamlessly integrate Bokeh visualizations into your web-based projects."
   ]
  },
  {
   "cell_type": "code",
   "execution_count": null,
   "id": "6d2f441d-fe86-4ebe-b394-7720eb9bc295",
   "metadata": {},
   "outputs": [],
   "source": []
  }
 ],
 "metadata": {
  "kernelspec": {
   "display_name": "Python 3 (ipykernel)",
   "language": "python",
   "name": "python3"
  },
  "language_info": {
   "codemirror_mode": {
    "name": "ipython",
    "version": 3
   },
   "file_extension": ".py",
   "mimetype": "text/x-python",
   "name": "python",
   "nbconvert_exporter": "python",
   "pygments_lexer": "ipython3",
   "version": "3.10.8"
  }
 },
 "nbformat": 4,
 "nbformat_minor": 5
}
